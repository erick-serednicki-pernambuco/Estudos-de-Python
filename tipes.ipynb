{
 "cells": [
  {
   "cell_type": "code",
   "execution_count": 1,
   "id": "90d6651f",
   "metadata": {},
   "outputs": [
    {
     "name": "stdout",
     "output_type": "stream",
     "text": [
      "5\n",
      "<class 'int'>\n",
      "19.99\n",
      "<class 'float'>\n",
      "São Paulo <class 'str'>\n"
     ]
    }
   ],
   "source": [
    "x = 5\n",
    "print(x)\n",
    "print(type(x))\n",
    "preco = 19.99\n",
    "print(preco)\n",
    "print(type(preco))\n",
    "cidade = \"São Paulo\"\n",
    "print(cidade,type(cidade))\n"
   ]
  },
  {
   "cell_type": "code",
   "execution_count": null,
   "id": "a081737d",
   "metadata": {},
   "outputs": [],
   "source": []
  }
 ],
 "metadata": {
  "kernelspec": {
   "display_name": "Python 3 (ipykernel)",
   "language": "python",
   "name": "python3"
  },
  "language_info": {
   "codemirror_mode": {
    "name": "ipython",
    "version": 3
   },
   "file_extension": ".py",
   "mimetype": "text/x-python",
   "name": "python",
   "nbconvert_exporter": "python",
   "pygments_lexer": "ipython3",
   "version": "3.8.10"
  }
 },
 "nbformat": 4,
 "nbformat_minor": 5
}
