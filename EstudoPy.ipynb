{
  "nbformat": 4,
  "nbformat_minor": 0,
  "metadata": {
    "colab": {
      "name": "EstudoPy.ipynb",
      "provenance": [],
      "collapsed_sections": []
    },
    "kernelspec": {
      "name": "python3",
      "display_name": "Python 3"
    },
    "language_info": {
      "name": "python"
    }
  },
  "cells": [
    {
      "cell_type": "code",
      "metadata": {
        "colab": {
          "base_uri": "https://localhost:8080/"
        },
        "id": "awExUIwkM6hN",
        "outputId": "c8e1fd80-0d62-4c45-df2e-d99f84b96517"
      },
      "source": [
        "%reset -f\n",
        "def odd_numbers(n):\n",
        "\treturn [x for x in range(1,n+1) if x%2 ==1 ]\n",
        "\n",
        "print(odd_numbers(5))  # Should print [1, 3, 5]\n",
        "print(odd_numbers(10)) # Should print [1, 3, 5, 7, 9]\n",
        "print(odd_numbers(11)) # Should print [1, 3, 5, 7, 9, 11]\n",
        "print(odd_numbers(1))  # Should print [1]\n",
        "print(odd_numbers(-1)) # Should print []\n",
        "list = odd_numbers(10)\n",
        "list2 = [34,35]\n",
        "list2.extend(list) // add list to end of list2\n",
        "print(list2)"
      ],
      "execution_count": null,
      "outputs": [
        {
          "output_type": "stream",
          "name": "stdout",
          "text": [
            "[1, 3, 5]\n",
            "[1, 3, 5, 7, 9]\n",
            "[1, 3, 5, 7, 9, 11]\n",
            "[1]\n",
            "[]\n",
            "[34, 35, 1, 3, 5, 7, 9]\n"
          ]
        }
      ]
    },
    {
      "cell_type": "code",
      "metadata": {
        "id": "gTI_4ZJnN0jd"
      },
      "source": [
        "%reset -f\n",
        "filenames = [\"program.c\", \"stdio.hpp\", \"sample.hpp\", \"a.out\", \"math.hpp\", \"hpp.out\"]\n",
        "# Generate newfilenames as a list containing the new filenames\n",
        "# using as many lines of code as your chosen method requires.\n",
        "newfilenames = [fil.replace('.hpp','.h') for fil in filenames]\n",
        "\n",
        "\n",
        "print(newfilenames) \n",
        "# Should be [\"program.c\", \"stdio.h\", \"sample.h\", \"a.out\", \"math.h\", \"hpp.out\"]"
      ],
      "execution_count": null,
      "outputs": []
    },
    {
      "cell_type": "code",
      "metadata": {
        "colab": {
          "base_uri": "https://localhost:8080/"
        },
        "id": "K2am-WUuRuy8",
        "outputId": "e246071f-0bbe-430d-988b-990cde760dda"
      },
      "source": [
        "%reset -f\n",
        "#Pergunta 2\n",
        "# Let's create a function that turns text into pig latin: a simple text transformation that modifies each word\n",
        "# moving the first character to the end and appending \"ay\" to the end. For example, python ends up as ythonpay.\n",
        "\n",
        "def pig_latin(text):\n",
        "  words = text.split()\n",
        "  pigged_text = []\n",
        "\n",
        "  for word in words:\n",
        "    word = word[1:] + word[0] + 'ay'\n",
        "    pigged_text.append(word)\n",
        "\n",
        "  return ' '.join(pigged_text)\n",
        "  return \" \".join(new_text)\n",
        "\t\t\n",
        "print(pig_latin(\"hello how are you\")) # Should be \"ellohay owhay reaay ouyay\"\n",
        "print(pig_latin(\"programming in python is fun\")) # Should be \"rogrammingpay niay ythonpay siay unfay\""
      ],
      "execution_count": null,
      "outputs": [
        {
          "output_type": "stream",
          "name": "stdout",
          "text": [
            "ellohay owhay reaay ouyay\n",
            "rogrammingpay niay ythonpay siay unfay\n"
          ]
        }
      ]
    },
    {
      "cell_type": "code",
      "metadata": {
        "colab": {
          "base_uri": "https://localhost:8080/"
        },
        "id": "G3k6tCQ3zGae",
        "outputId": "0e74befd-8d81-40b3-d73e-b4aaa91094c0"
      },
      "source": [
        " %reset -f\n",
        " # The group_list function accepts a group name and a list of members, and returns a string with the format: group_name: member1, member2, \n",
        " # … For example, group_list(\"g\", [\"a\",\"b\",\"c\"]) returns \"g: a, b, c\". Fill in the gaps in this function to do that.\n",
        "def group_list(group, users): \n",
        "  members = (\"{}: {}\".format(group, ','.join(users)))\n",
        "  return members\n",
        "\n",
        "print(group_list(\"Marketing\", [\"Mike\", \"Karen\", \"Jake\", \"Tasha\"])) # Should be \"Marketing: Mike, Karen, Jake, Tasha\"\n",
        "print(group_list(\"Engineering\", [\"Kim\", \"Jay\", \"Tom\"])) # Should be \"Engineering: Kim, Jay, Tom\"\n",
        "print(group_list(\"Users\", \"\")) # Should be \"Users:\""
      ],
      "execution_count": null,
      "outputs": [
        {
          "output_type": "stream",
          "name": "stdout",
          "text": [
            "Marketing: Mike,Karen,Jake,Tasha\n",
            "Engineering: Kim,Jay,Tom\n",
            "Users: \n"
          ]
        }
      ]
    },
    {
      "cell_type": "code",
      "metadata": {
        "id": "31Lvvcn88JBF"
      },
      "source": [
        "%reset -f\n",
        "\n",
        "#The guest_list function reads in a list of tuples with the name, age, and profession of each party guest, \n",
        "#and prints the sentence \"Guest is X years old and works as __.\" \n",
        "#for each one. For example, guest_list(('Ken', 30, \"Chef\"), (\"Pat\", 35, 'Lawyer'), ('Amanda', 25, \"Engineer\"))\n",
        "#should print out: Ken is 30 years old and works as Chef. Pat is 35 years old and works as Lawyer.\n",
        "#Amanda is 25 years old and works as Engineer.\n",
        "#Fill in the gaps in this function to do that. \n",
        "\n",
        "\n",
        "def guest_list(guests):\n",
        "\tfor name, age, job in guests:\n",
        "\t\tprint(\"{} is {} years old and works as {}\".format(name, age, job))\n",
        "\n",
        "guest_list([('Ken', 30, \"Chef\"), (\"Pat\", 35, 'Lawyer'), ('Amanda', 25, \"Engineer\")])\n",
        "\n",
        "#Click Run to submit code\n",
        "\"\"\"\n",
        "Output should match:\n",
        "Ken is 30 years old and works as Chef\n",
        "Pat is 35 years old and works as Lawyer\n",
        "Amanda is 25 years old and works as Engineer\n",
        "\"\"\""
      ],
      "execution_count": null,
      "outputs": []
    },
    {
      "cell_type": "code",
      "metadata": {
        "id": "7hh9E9yL7dn-"
      },
      "source": [
        "%reset -f\n",
        "#dictionary \n",
        "toc = {\"Introduction\":1, \"Chapter 1\":4, \"Chapter 2\":11, \"Chapter 3\":25, \"Chapter 4\":30}\n",
        "toc[\"Epilogue\"] = 39 # Epilogue starts on page 39\n",
        "toc[\"Chapter 3\"] = 24 # Chapter 3 now starts on page 24\n",
        "print(toc) # What are the current contents of the dictionary?\n",
        "print(\"Chapter 5\" in toc) # Is there a Chapter 5?"
      ],
      "execution_count": null,
      "outputs": []
    },
    {
      "cell_type": "code",
      "metadata": {
        "id": "so1at4o2T9V0"
      },
      "source": [
        "%reset -f\n",
        "#Complete the code to iterate through the keys and values of the cool_beasts dictionary. \n",
        "#Remember that the items method returns a tuple of key, value for each element in the dictionary.\n",
        "\n",
        "cool_beasts = {\"octopuses\":\"tentacles\", \"dolphins\":\"fins\", \"rhinos\":\"horns\"}\n",
        "for beast,arm in cool_beasts.items():\n",
        "    print(\"{} have {}\".format(beast,arm))\n",
        "    "
      ],
      "execution_count": null,
      "outputs": []
    },
    {
      "cell_type": "code",
      "metadata": {
        "colab": {
          "base_uri": "https://localhost:8080/"
        },
        "id": "zV3Ri-tP6n4T",
        "outputId": "4c48f6d9-ca62-4022-ddd6-a25e08199a2f"
      },
      "source": [
        "%reset -f\n",
        "def count_letter(text):\n",
        "    result = {}\n",
        "    for letter in text :\n",
        "      if letter not in result :\n",
        "        result[letter] = 0\n",
        "      result[letter] += 1\n",
        "    print(result.keys())\n",
        "    print(result.values())\n",
        "    return result      \n",
        "\n",
        "count_letter(\"aaaaaaaaa\")\n",
        "count_letter(\"ternaoserestar\")"
      ],
      "execution_count": null,
      "outputs": [
        {
          "output_type": "stream",
          "name": "stdout",
          "text": [
            "dict_keys(['a'])\n",
            "dict_values([9])\n",
            "dict_keys(['t', 'e', 'r', 'n', 'a', 'o', 's'])\n",
            "dict_values([2, 3, 3, 1, 2, 1, 2])\n"
          ]
        },
        {
          "output_type": "execute_result",
          "data": {
            "text/plain": [
              "{'a': 2, 'e': 3, 'n': 1, 'o': 1, 'r': 3, 's': 2, 't': 2}"
            ]
          },
          "metadata": {},
          "execution_count": 1
        }
      ]
    },
    {
      "cell_type": "code",
      "metadata": {
        "id": "wxXP_LEx_0fr",
        "colab": {
          "base_uri": "https://localhost:8080/"
        },
        "outputId": "ebe19847-5b5f-4d81-f0bc-797fc3e36ea6"
      },
      "source": [
        "%reset -f\n",
        "# Complete the code to iterate through the keys and values of \n",
        "#the cool_beasts dictionary. Remember that the items method \n",
        "#returns a tuple of key, value for each element in the dictionary.\n",
        "cool_beasts = {\"octopuses\":\"tentacles\", \"dolphins\":\"fins\", \"rhinos\":\"horns\"}\n",
        "for beast,arm in cool_beasts.items():\n",
        "    print(\"{} have {}\".format(beast,arm))"
      ],
      "execution_count": null,
      "outputs": [
        {
          "output_type": "stream",
          "name": "stdout",
          "text": [
            "octopuses have tentacles\n",
            "dolphins have fins\n",
            "rhinos have horns\n"
          ]
        }
      ]
    },
    {
      "cell_type": "code",
      "metadata": {
        "colab": {
          "base_uri": "https://localhost:8080/"
        },
        "id": "UDy6qAa6PfQp",
        "outputId": "5b508727-967c-4d87-f1db-1064d2fda2a7"
      },
      "source": [
        "%reset -f\n",
        "#In Python, a dictionary can only hold a single value \n",
        "#value can be a list containing multiple values. \n",
        "#Here we have a dictionary called \"wardrobe\" \n",
        "#with items of clothing and their colors. \n",
        "#Fill in the blanks to print a line for \n",
        "#each item of clothing with each color, \n",
        "#for example: \"red shirt\", \"blue shirt\", and so on.\n",
        "wardrobe = {\"shirt\":[\"red\",\"blue\",\"white\"], \"jeans\":[\"blue\",\"black\"]}\n",
        "for typ in wardrobe:\n",
        "\tfor color in wardrobe[typ]:\n",
        "\t\tprint(\"{} {}\".format(color,typ))"
      ],
      "execution_count": null,
      "outputs": [
        {
          "output_type": "stream",
          "name": "stdout",
          "text": [
            "red shirt\n",
            "blue shirt\n",
            "white shirt\n",
            "blue jeans\n",
            "black jeans\n"
          ]
        }
      ]
    },
    {
      "cell_type": "code",
      "metadata": {
        "colab": {
          "base_uri": "https://localhost:8080/"
        },
        "id": "Sg7MYSuqTvZ1",
        "outputId": "691ec89b-dd0a-4c4c-f5b4-b0e71245713b"
      },
      "source": [
        "%reset -f\n",
        "#The email_list function receives a dictionary, \n",
        "#which contains domain names as keys, and a list of users as values. \n",
        "#Fill in the blanks to generate a list that contains \n",
        "#complete email addresses (e.g. diana.prince@gmail.com).\n",
        "\n",
        "def email_list(domains):\n",
        "    emails = []\n",
        "    for domain, users in domains.items():\n",
        "          for user in users:\n",
        "              emails.append(user+'@'+domain)\n",
        "    return(emails)\n",
        "print(email_list({\"gmail.com\": [\"clark.kent\", \"diana.prince\", \"peter.parker\"], \"yahoo.com\": [\"barbara.gordon\", \"jean.grey\"], \"hotmail.com\": [\"bruce.wayne\"]}))"
      ],
      "execution_count": null,
      "outputs": [
        {
          "output_type": "stream",
          "name": "stdout",
          "text": [
            "['clark.kent@gmail.com', 'diana.prince@gmail.com', 'peter.parker@gmail.com', 'barbara.gordon@yahoo.com', 'jean.grey@yahoo.com', 'bruce.wayne@hotmail.com']\n"
          ]
        }
      ]
    },
    {
      "cell_type": "code",
      "metadata": {
        "colab": {
          "base_uri": "https://localhost:8080/"
        },
        "id": "c_3Yx4leL9BT",
        "outputId": "3f25f5c0-529f-4c98-9ed1-a4b69b5a5021"
      },
      "source": [
        "%reset -f\n",
        "#The groups_per_user function receives a dictionary, \n",
        "#which contains group names with the list of users. \n",
        "#Users can belong to multiple groups. Fill in the blanks to return a \n",
        "#dictionary with the users as keys and a list of their groups as values. \n",
        "\n",
        "def groups_per_user(group_dictionary):\n",
        "    user_groups = {}\n",
        "\t# Go through group_dictionary\n",
        "    for group, users in group_dictionary.items():\n",
        "\t\t# Now add the group to the the list of\n",
        "        for user in users:\n",
        "\t\t\t# Now add the group to the the list of\n",
        "            if user not in user_groups:\n",
        "                user_groups[user] = []\n",
        "            user_groups[user].append(group)\n",
        "\t# groups for this user, creating the entry\n",
        "\t# in the dictionary if necessary\n",
        "    return user_groups\n",
        "\n",
        "print(groups_per_user({\"local\": [\"admin\", \"userA\"],\n",
        "\t\t\"public\":  [\"admin\", \"userB\"],\n",
        "\t\t\"administrator\": [\"admin\"] }))"
      ],
      "execution_count": null,
      "outputs": [
        {
          "output_type": "stream",
          "name": "stdout",
          "text": [
            "{'admin': ['local', 'public', 'administrator'], 'userA': ['local'], 'userB': ['public']}\n"
          ]
        }
      ]
    },
    {
      "cell_type": "code",
      "metadata": {
        "id": "P8SKlvP-MOtL"
      },
      "source": [
        "%reset -f\n",
        "#The dict.update method updates one dictionary with \n",
        "#the items coming from the other dictionary, \n",
        "#so that existing entries are replaced and new entries are added. \n",
        "#What is the content of the \n",
        "#dictionary “wardrobe“ at the end of the following code?\n",
        "\n",
        "wardrobe = {'shirt': ['red', 'blue', 'white'], 'jeans': ['blue', 'black']}\n",
        "new_items = {'jeans': ['white'], 'scarf': ['yellow'], 'socks': ['black', 'brown']}\n",
        "wardrobe.update(new_items)\n"
      ],
      "execution_count": null,
      "outputs": []
    },
    {
      "cell_type": "code",
      "metadata": {
        "id": "DTTXoUn4MZAB"
      },
      "source": [
        "%reset -f\n",
        "#The add_prices function returns the total price of all \n",
        "#of the groceries in the  dictionary. \n",
        "#Fill in the blanks to complete this function.\n",
        "\n",
        "def add_prices(basket):\n",
        "\t# Initialize the variable that will be used for the calculation\n",
        "\ttotal = 0\n",
        "\t# Iterate through the dictionary items\n",
        "\tfor key in basket :\n",
        "\t\t# Add each price to the total calculation\n",
        "\t\t# Hint: how do you access the values of\n",
        "\t\t# dictionary items?\n",
        "\t\ttotal += basket[key]\n",
        "\t# Limit the return value to 2 decimal places\n",
        "\treturn round(total, 2)  \n",
        "\n",
        "groceries = {\"bananas\": 1.56, \"apples\": 2.50, \"oranges\": 0.99, \"bread\": 4.59, \n",
        "\t\"coffee\": 6.99, \"milk\": 3.39, \"eggs\": 2.98, \"cheese\": 5.44}\n",
        "\n",
        "print(add_prices(groceries)) # Should print 28.44"
      ],
      "execution_count": null,
      "outputs": []
    },
    {
      "cell_type": "code",
      "metadata": {
        "id": "R1FvdZsnMiTg"
      },
      "source": [
        "%reset -f\n",
        "#The format_address function separates out parts of the address string into new strings: house_number and street_name, \n",
        "#and returns: \"house number X on street named Y\". The format of the input string is: numeric house number, \n",
        "#followed by the street name which may contain numbers, but never by themselves, \n",
        "#and could be several words long. For example, \"123 Main Street\", \"1001 1st Ave\", or \"55 North Center Drive\".\n",
        "#Fill in the gaps to complete this function.\n",
        "\n",
        "def format_address(address_string):\n",
        "  # Declare variables\n",
        "  house_number = 0\n",
        "  street_name = []\n",
        "  # Separate the address string into parts\n",
        "  list_str = address_string.split()\n",
        "  # Traverse through the address parts\n",
        "  for st in list_str:\n",
        "    # Determine if the address part is the\n",
        "    # house number or part of the street name\n",
        "      if st.isnumeric() :\n",
        "        house_number = st\n",
        "      else :\n",
        "        street_name.append(st)\n",
        "\n",
        "  # Does anything else need to be done \n",
        "  # before returning the result?\n",
        "   \n",
        "  \n",
        "  # Return the formatted string  \n",
        "  return \"house number {} on street named {}\".format(house_number, \" \".join(street_name))\n",
        "\n",
        "print(format_address(\"123 Main Street\"))\n",
        "# Should print: \"house number 123 on street named Main Street\"\n",
        "\n",
        "print(format_address(\"1001 1st Ave\"))\n",
        "# Should print: \"house number 1001 on street named 1st Ave\"\n",
        "\n",
        "print(format_address(\"55 North Center Drive\"))\n",
        "# Should print \"house number 55 on street named North Center Drive\"\n"
      ],
      "execution_count": null,
      "outputs": []
    },
    {
      "cell_type": "code",
      "metadata": {
        "id": "6HEwBuAmDK06"
      },
      "source": [
        "%reset -f\n",
        "#The highlight_word function changes the given word in a sentence \n",
        "#to its upper-case version. For example, \n",
        "#highlight_word(\"Have a nice day\", \"nice\") returns \"Have a NICE day\". \n",
        "#Can you write this function in just one line?\n",
        "\n",
        "def highlight_word(sentence, word):\n",
        "\treturn(sentence.replace(word,word.upper()))\n",
        "\n",
        "print(highlight_word(\"Have a nice day\", \"nice\"))\n",
        "print(highlight_word(\"Shhh, don't be so loud!\", \"loud\"))\n",
        "print(highlight_word(\"Automating with Python is fun\", \"fun\"))"
      ],
      "execution_count": null,
      "outputs": []
    },
    {
      "cell_type": "code",
      "metadata": {
        "colab": {
          "base_uri": "https://localhost:8080/"
        },
        "id": "_T429gBoHFiv",
        "outputId": "4eb294e6-8d54-4086-fa80-e2bfe62e3cca"
      },
      "source": [
        "%reset -f\n",
        "#A professor with two assistants, Jamie and Drew, wants an attendance list of the students, \n",
        "#in the order that they arrived in the classroom. Drew was the first one to note which students arrived, \n",
        "#and then Jamie took over. After the class, they each entered their lists into the computer and emailed them to the professor,\n",
        "# who needs to combine them into one, in the order of each student's arrival. Jamie emailed a follow-up, saying that her list is in reverse order. \n",
        "#Complete the steps to combine them into one list as follows: the contents of Drew's list, followed by Jamie's \n",
        "#list in reverse order, to get an accurate list of the students as they arrived.\n",
        "def combine_lists(list1, list2):\n",
        "\n",
        "  # Generate a new list containing the elements of list2\n",
        "  new_list = list2\n",
        "  new_list1 = reversed(list1)  \n",
        "  new_list.extend(new_list1)\n",
        "\n",
        "  # Followed by the elements of list1 in reverse order\n",
        "  return new_list\n",
        "  \n",
        "\t\n",
        "Jamies_list = [\"Alice\", \"Cindy\", \"Bobby\", \"Jan\", \"Peter\"]\n",
        "Drews_list = [\"Mike\", \"Carol\", \"Greg\", \"Marcia\"]\n",
        "\n",
        "print(combine_lists(Jamies_list, Drews_list))\n"
      ],
      "execution_count": null,
      "outputs": [
        {
          "output_type": "stream",
          "name": "stdout",
          "text": [
            "['Mike', 'Carol', 'Greg', 'Marcia', 'Mike', 'Carol', 'Greg', 'Marcia']\n"
          ]
        }
      ]
    },
    {
      "cell_type": "code",
      "metadata": {
        "id": "s8OQCWHULOHx"
      },
      "source": [
        "%reset -f\n",
        "#Use a list comprehension to create a list of squared numbers (n*n). \n",
        "#The function receives the variables start and end, and returns a list \n",
        "#of squares of consecutive numbers between start and end inclusively.\n",
        "#For example, squares(2, 3) should return [4, 9].\n",
        "\n",
        "def squares(start, end):\n",
        "\tsquares_list = []\n",
        "\tfor x in range(start,end+1):\n",
        "\t\tsquares_list.append(x*x) \n",
        "\treturn squares_list\n",
        "\n",
        "print(squares(2, 3)) # Should be [4, 9]\n",
        "print(squares(1, 5)) # Should be [1, 4, 9, 16, 25]\n",
        "print(squares(0, 10)) # Should be [0, 1, 4, 9, 16, 25, 36, 49, 64, 81, 100]"
      ],
      "execution_count": null,
      "outputs": []
    },
    {
      "cell_type": "code",
      "metadata": {
        "id": "z57320DRLaBH"
      },
      "source": [
        "%reset -f\n",
        "#Complete the code to iterate through the keys and values of the \n",
        "#car_prices dictionary, printing out some information about each one.\n",
        "\n",
        "def car_listing(car_prices):\n",
        "  result = \"\"\n",
        "  for key,value in car_prices.items():\n",
        "    result += \"{} costs {} dollars\".format(key,value) + \"\\n\"\n",
        "  return result\n",
        "\n",
        "print(car_listing({\"Kia Soul\":19000, \"Lamborghini Diablo\":55000, \"Ford Fiesta\":13000, \"Toyota Prius\":24000}))"
      ],
      "execution_count": null,
      "outputs": []
    },
    {
      "cell_type": "code",
      "metadata": {
        "id": "e22kXjX4M16T",
        "colab": {
          "base_uri": "https://localhost:8080/"
        },
        "outputId": "492299c3-96f7-4b6f-f07c-b742e387e051"
      },
      "source": [
        "%reset -f\n",
        "#type()\n",
        "#help(\"\") #help with some type (\"\") {string}, (int) ...\n",
        "#dir(\"\") #call all metods"
      ],
      "execution_count": null,
      "outputs": [
        {
          "output_type": "execute_result",
          "data": {
            "text/plain": [
              "['__add__',\n",
              " '__class__',\n",
              " '__contains__',\n",
              " '__delattr__',\n",
              " '__dir__',\n",
              " '__doc__',\n",
              " '__eq__',\n",
              " '__format__',\n",
              " '__ge__',\n",
              " '__getattribute__',\n",
              " '__getitem__',\n",
              " '__getnewargs__',\n",
              " '__gt__',\n",
              " '__hash__',\n",
              " '__init__',\n",
              " '__init_subclass__',\n",
              " '__iter__',\n",
              " '__le__',\n",
              " '__len__',\n",
              " '__lt__',\n",
              " '__mod__',\n",
              " '__mul__',\n",
              " '__ne__',\n",
              " '__new__',\n",
              " '__reduce__',\n",
              " '__reduce_ex__',\n",
              " '__repr__',\n",
              " '__rmod__',\n",
              " '__rmul__',\n",
              " '__setattr__',\n",
              " '__sizeof__',\n",
              " '__str__',\n",
              " '__subclasshook__',\n",
              " 'capitalize',\n",
              " 'casefold',\n",
              " 'center',\n",
              " 'count',\n",
              " 'encode',\n",
              " 'endswith',\n",
              " 'expandtabs',\n",
              " 'find',\n",
              " 'format',\n",
              " 'format_map',\n",
              " 'index',\n",
              " 'isalnum',\n",
              " 'isalpha',\n",
              " 'isascii',\n",
              " 'isdecimal',\n",
              " 'isdigit',\n",
              " 'isidentifier',\n",
              " 'islower',\n",
              " 'isnumeric',\n",
              " 'isprintable',\n",
              " 'isspace',\n",
              " 'istitle',\n",
              " 'isupper',\n",
              " 'join',\n",
              " 'ljust',\n",
              " 'lower',\n",
              " 'lstrip',\n",
              " 'maketrans',\n",
              " 'partition',\n",
              " 'replace',\n",
              " 'rfind',\n",
              " 'rindex',\n",
              " 'rjust',\n",
              " 'rpartition',\n",
              " 'rsplit',\n",
              " 'rstrip',\n",
              " 'split',\n",
              " 'splitlines',\n",
              " 'startswith',\n",
              " 'strip',\n",
              " 'swapcase',\n",
              " 'title',\n",
              " 'translate',\n",
              " 'upper',\n",
              " 'zfill']"
            ]
          },
          "metadata": {},
          "execution_count": 2
        }
      ]
    },
    {
      "cell_type": "code",
      "metadata": {
        "id": "XQ2P3RzWWKeh"
      },
      "source": [
        "%reset -f\n",
        "#Want to give this a go? Fill in the blanks in the code to make it print a poem.\n",
        "\n",
        "class Flower:\n",
        "  color = 'unknown'\n",
        "\n",
        "rose = Flower()\n",
        "rose.color = \"red\"\n",
        "\n",
        "violet = Flower\n",
        "violet.color = \"blue\"\n",
        "\n",
        "this_pun_is_for_you = \"I love you\"\n",
        "\n",
        "print(\"Roses are {},\".format(rose.color))\n",
        "print(\"violets are {},\".format(violet.color))\n",
        "print(this_pun_is_for_you) "
      ],
      "execution_count": null,
      "outputs": []
    },
    {
      "cell_type": "code",
      "metadata": {
        "colab": {
          "base_uri": "https://localhost:8080/"
        },
        "id": "5cuHZr57cH1l",
        "outputId": "5bc516a0-3043-4f13-f331-d363be20fb10"
      },
      "source": [
        "%reset -f\n",
        "#The City class has the following attributes: name, country (where the city is located), \n",
        "#elevation (measured in meters), and population (approximate, according to recent statistics). \n",
        "#Fill in the blanks of the max_elevation_city function to return the name of the city and its country (separated by a comma), \n",
        "#when comparing the 3 defined instances for a specified minimal population. For example, \n",
        "#calling the function for a minimum population of 1 million: max_elevation_city(1000000) should return \"Sofia, Bulgaria\". \n",
        "\n",
        "\n",
        "# define a basic city class\n",
        "class City:\n",
        "\tname = \"\"\n",
        "\tcountry = \"\"\n",
        "\televation = 0 \n",
        "\tpopulation = 0\n",
        "\n",
        "# create a new instance of the City class and\n",
        "# define each attribute\n",
        "city1 = City()\n",
        "city1.name = \"Cusco\"\n",
        "city1.country = \"Peru\"\n",
        "city1.elevation = 3399\n",
        "city1.population = 358052\n",
        "\n",
        "# create a new instance of the City class and\n",
        "# define each attribute\n",
        "city2 = City()\n",
        "city2.name = \"Sofia\"\n",
        "city2.country = \"Bulgaria\"\n",
        "city2.elevation = 2290\n",
        "city2.population = 1241675\n",
        "\n",
        "# create a new instance of the City class and\n",
        "# define each attribute\n",
        "city3 = City()\n",
        "city3.name = \"Seoul\"\n",
        "city3.country = \"South Korea\"\n",
        "city3.elevation = 38\n",
        "city3.population = 9733509\n",
        "\n",
        "def max_elevation_city(min_population):\n",
        "\t# Initialize the variable that will hold \n",
        "# the information of the city with \n",
        "# the highest elevation \n",
        "\treturn_city = City()\n",
        "\n",
        "\t# Evaluate the 1st instance to meet the requirements:\n",
        "\t# does city #1 have at least min_population and\n",
        "\t# is its elevation the highest evaluated so far?\n",
        "\tif city1.population >= min_population :\n",
        "\t\treturn_city = city1\n",
        "\t# Evaluate the 2nd instance to meet the requirements:\n",
        "\t# does city #2 have at least min_population and\n",
        "\t# is its elevation the highest evaluated so far?\n",
        "\tif city2.population >= min_population and city2.elevation > return_city.elevation:\n",
        "\t\treturn_city = city2\n",
        "\t# Evaluate the 3rd instance to meet the requirements:\n",
        "\t# does city #3 have at least min_population and\n",
        "\t# is its elevation the highest evaluated so far?\n",
        "\tif city3.population >= min_population and city3.elevation > return_city.elevation:\n",
        "\t\treturn_city = city3\n",
        "\n",
        "\t#Format the return string\n",
        "\tif return_city.name:\n",
        "\t\treturn \"{}, {}\".format(return_city.name, return_city.country)\n",
        "\telse:\n",
        "\t\treturn \"\"\n",
        "\n",
        "print(max_elevation_city(100000)) # Should print \"Cusco, Peru\"\n",
        "print(max_elevation_city(1000000)) # Should print \"Sofia, Bulgaria\"\n",
        "print(max_elevation_city(10000000)) # Should print \"\""
      ],
      "execution_count": null,
      "outputs": [
        {
          "output_type": "stream",
          "name": "stdout",
          "text": [
            "Cusco, Peru\n",
            "Sofia, Bulgaria\n",
            "\n"
          ]
        }
      ]
    },
    {
      "cell_type": "code",
      "metadata": {
        "id": "bnXFr6vvyamG"
      },
      "source": [
        "%reset -f\n",
        "Pergunta 2\n",
        "\n",
        "#Creating new instances of class objects can be a great way to keep track of values using attributes \n",
        "#associated with the object. The values of these attributes can be easily changed at the object level.  \n",
        "#The following code illustrates a famous quote by George Bernard Shaw, using objects to represent people. \n",
        "#Fill in the blanks to make the code satisfy the behavior described in the quote\n",
        "\n",
        "\n",
        "# “If you have an apple and I have an apple and we exchange these apples then\n",
        "# you and I will still each have one apple. But if you have an idea and I have\n",
        "# an idea and we exchange these ideas, then each of us will have two ideas.”\n",
        "# George Bernard Shaw\n",
        "\n",
        "class Person:\n",
        "    apples = 0\n",
        "    ideas = 0\n",
        "\n",
        "johanna = Person()\n",
        "johanna.apples = 1\n",
        "johanna.ideas = 1\n",
        "\n",
        "martin = Person()\n",
        "martin.apples = 2\n",
        "martin.ideas = 1\n",
        "\n",
        "def exchange_apples(you, me):\n",
        "#Here, despite G.B. Shaw's quote, our characters have started with       #different amounts of apples so we can better observe the results. \n",
        "#We're going to have Martin and Johanna exchange ALL their apples with #one another.\n",
        "#Hint: how would you switch values of variables, \n",
        "#so that \"you\" and \"me\" will exchange ALL their apples with one another?\n",
        "#Do you need a temporary variable to store one of the values?\n",
        "#You may need more than one line of code to do that, which is OK. \n",
        "    aux = you.apples\n",
        "    you.apples = me.apples\n",
        "    me.apples = aux\n",
        "    return you.apples, me.apples\n",
        "    \n",
        "def exchange_ideas(you, me):\n",
        "    #\"you\" and \"me\" will share our ideas with one another.\n",
        "    #What operations need to be performed, so that each object receives\n",
        "    #the shared number of ideas?\n",
        "    #Hint: how would you assign the total number of ideas to \n",
        "    #each idea attribute? Do you need a temporary variable to store \n",
        "    #the sum of ideas, or can you find another way? \n",
        "    #Use as many lines of code as you need here.\n",
        "    you.ideas += me.ideas \n",
        "    me.ideas = you.ideas\n",
        "    return you.ideas, me.ideas\n",
        "\n",
        "exchange_apples(johanna, martin)\n",
        "print(\"Johanna has {} apples and Martin has {} apples\".format(johanna.apples, martin.apples))\n",
        "exchange_ideas(johanna, martin)\n",
        "print(\"Johanna has {} ideas and Martin has {} ideas\".format(johanna.ideas, martin.ideas))\n"
      ],
      "execution_count": null,
      "outputs": []
    },
    {
      "cell_type": "code",
      "metadata": {
        "colab": {
          "base_uri": "https://localhost:8080/"
        },
        "id": "tjD5TNVKzdbi",
        "outputId": "789ca4e8-9e9f-47b8-bef2-e818f0697d97"
      },
      "source": [
        "%reset -f\n",
        "#OK, now it’s your turn! Have a go at writing methods for a class.\n",
        "#Create a Dog class with dog_years based on the Piglet class shown before (one human year is about 7 dog years).\n",
        "\n",
        "class Dog:\n",
        "  years = 0\n",
        "  def dog_years(self):\n",
        "    return self.years*7\n",
        "\n",
        "    \n",
        "fido=Dog()\n",
        "fido.years=3\n",
        "print(fido.dog_years())\n",
        "\n"
      ],
      "execution_count": null,
      "outputs": [
        {
          "output_type": "stream",
          "name": "stdout",
          "text": [
            "21\n"
          ]
        }
      ]
    },
    {
      "cell_type": "code",
      "metadata": {
        "id": "s1hvIZ3B0iBt"
      },
      "source": [
        "%reset -f\n",
        "#Want to see this in action? \n",
        "#In this code, there's a Person class that has an attribute name, which gets set\n",
        "#when constructing the object. Fill in the blanks so that 1) when an instance of\n",
        "#the class is created, the attribute gets set correctly, and \n",
        "#2) when the greeting() method is called, the greeting states the assigned name.\n",
        "\n",
        "class Person:\n",
        "    def __init__(self, name):\n",
        "        self.name = name\n",
        "    def greeting(self):\n",
        "        # Should return \"hi, my name is \" followed by the name of the Person.\n",
        "        return \"hi, my name is {}\".format(self.name)\n",
        "\n",
        "# Create a new instance with a name of your choice\n",
        "some_person = Person(\"Gog\")\n",
        "# Call the greeting method\n",
        "print(some_person.greeting())\n"
      ],
      "execution_count": null,
      "outputs": []
    },
    {
      "cell_type": "code",
      "metadata": {
        "colab": {
          "base_uri": "https://localhost:8080/"
        },
        "id": "PGbKnzIn2qOh",
        "outputId": "496878bd-842a-4955-f3ac-a6d7f6dbed09"
      },
      "source": [
        "%reset -f\n",
        "class Person:\n",
        "    def __init__(self, name):\n",
        "        self.name = name\n",
        "    def __str__(self):\n",
        "        # Should return \"hi, my name is \" followed by the name of the Person.\n",
        "        return \"hi, my name is {}\".format(self.name)\n",
        "\n",
        "# Create a new instance with a name of your choice\n",
        "some_person = Person(\"Gog\")\n",
        "# Call the greeting method\n",
        "print(some_person)\n"
      ],
      "execution_count": null,
      "outputs": [
        {
          "output_type": "stream",
          "name": "stdout",
          "text": [
            "hi, my name is Gog\n"
          ]
        }
      ]
    },
    {
      "cell_type": "code",
      "metadata": {
        "colab": {
          "base_uri": "https://localhost:8080/"
        },
        "id": "qGLvJpWg-2cy",
        "outputId": "63f98cb2-f85d-47de-9460-c375ee8bd7fb"
      },
      "source": [
        "%reset -f\n",
        "#Remember our Person class from the last video? Let’s add a docstring to the greeting method. \n",
        "#How about, “Outputs a message with the name of the person”.\n",
        "\n",
        "class Person:\n",
        "  def __init__(self, name):\n",
        "    self.name = name\n",
        "  def greeting(self):\n",
        "    \"\"\"Outputs a message with the name of the person\"\"\"\n",
        "    print(\"Hello! My name is {name}.\".format(name=self.name)) \n",
        "\n",
        "help(Person)"
      ],
      "execution_count": null,
      "outputs": [
        {
          "output_type": "stream",
          "name": "stdout",
          "text": [
            "Help on class Person in module __main__:\n",
            "\n",
            "class Person(builtins.object)\n",
            " |  Person(name)\n",
            " |  \n",
            " |  Methods defined here:\n",
            " |  \n",
            " |  __init__(self, name)\n",
            " |      Initialize self.  See help(type(self)) for accurate signature.\n",
            " |  \n",
            " |  greeting(self)\n",
            " |      Outputs a message with the name of the person\n",
            " |  \n",
            " |  ----------------------------------------------------------------------\n",
            " |  Data descriptors defined here:\n",
            " |  \n",
            " |  __dict__\n",
            " |      dictionary for instance variables (if defined)\n",
            " |  \n",
            " |  __weakref__\n",
            " |      list of weak references to the object (if defined)\n",
            "\n"
          ]
        }
      ]
    },
    {
      "cell_type": "code",
      "metadata": {
        "colab": {
          "base_uri": "https://localhost:8080/"
        },
        "id": "lqo5vWloAPaf",
        "outputId": "0f05af83-967c-45c1-aa19-759e3fb67cc3"
      },
      "source": [
        "%reset -f \n",
        "#The Python help function can be super helpful for easily pulling up documentation for classes and methods. \n",
        "#We can call the help function on one of our classes, \n",
        "#which will return some basic info about the methods defined in our class:\n",
        "\n",
        "class Apple:\n",
        "     def __init__(self, color, flavor):\n",
        "         self.color = color\n",
        "         self.flavor = flavor\n",
        "     def __str__(self):\n",
        "         return \"This apple is {} and its flavor is {}\".format(self.color, self.flavor)\n",
        " \n",
        "help(Apple)"
      ],
      "execution_count": null,
      "outputs": [
        {
          "output_type": "stream",
          "name": "stdout",
          "text": [
            "Help on class Apple in module __main__:\n",
            "\n",
            "class Apple(builtins.object)\n",
            " |  Apple(color, flavor)\n",
            " |  \n",
            " |  Methods defined here:\n",
            " |  \n",
            " |  __init__(self, color, flavor)\n",
            " |      Initialize self.  See help(type(self)) for accurate signature.\n",
            " |  \n",
            " |  __str__(self)\n",
            " |      Return str(self).\n",
            " |  \n",
            " |  ----------------------------------------------------------------------\n",
            " |  Data descriptors defined here:\n",
            " |  \n",
            " |  __dict__\n",
            " |      dictionary for instance variables (if defined)\n",
            " |  \n",
            " |  __weakref__\n",
            " |      list of weak references to the object (if defined)\n",
            "\n"
          ]
        }
      ]
    },
    {
      "cell_type": "code",
      "metadata": {
        "colab": {
          "base_uri": "https://localhost:8080/",
          "height": 132
        },
        "id": "vBkH6uciAuPa",
        "outputId": "f32893ad-18e0-4aed-c6a4-c404914652ab"
      },
      "source": [
        "%reset -f \n",
        "#ANOTACAO SOBRE A ESTRUTURA \n",
        "    #Classes define the behavior of all instances of a specific class.\n",
        "    #Each variable of a specific class is an instance or object.\n",
        "    #Objects can have attributes, which store information about the object.\n",
        "    #You can make objects do work by calling their methods.\n",
        "    #The first parameter of the methods (self) represents the current instance.\n",
        "    #Methods are just like functions, but they can only be used through a class.\n",
        "\n",
        " # Special methods\n",
        "    #Special methods start and end with __.\n",
        "    #Special methods have specific names, like __init__ for the constructor or __str__ for the conversion to string.\n",
        "\n",
        "\n",
        "\n",
        "class ClassName:\n",
        "    \"\"\"Documentation for the class.\"\"\"\n",
        "    def method_name(self, other_parameters):\n",
        "        \"\"\"Documentation for the method.\"\"\"\n",
        "        body_of_method\n",
        "        \n",
        "def function_name(parameters):\n",
        "    \"\"\"Documentation for the function.\"\"\"\n",
        "    body_of_function"
      ],
      "execution_count": null,
      "outputs": [
        {
          "output_type": "error",
          "ename": "SyntaxError",
          "evalue": "ignored",
          "traceback": [
            "\u001b[0;36m  File \u001b[0;32m\"<ipython-input-14-7048c1cc3244>\"\u001b[0;36m, line \u001b[0;32m14\u001b[0m\n\u001b[0;31m    Help on class Apple in module __main__:\u001b[0m\n\u001b[0m          ^\u001b[0m\n\u001b[0;31mSyntaxError\u001b[0m\u001b[0;31m:\u001b[0m invalid syntax\n"
          ]
        }
      ]
    },
    {
      "cell_type": "code",
      "metadata": {
        "colab": {
          "base_uri": "https://localhost:8080/"
        },
        "id": "oPVAPGo27c2e",
        "outputId": "6ef5158f-7484-4721-888a-47fef1791df6"
      },
      "source": [
        "%reset -f\n",
        "#Let’s create a new class together and inherit from it. \n",
        "#Below we have a base class called Clothing. Together, let’s create a second class, called Shirt, \n",
        "#that inherits methods from the Clothing class. Fill in the blanks to make it work properly.\n",
        "\n",
        "class Clothing:\n",
        "  material = \"\"\n",
        "  def __init__(self,name):\n",
        "    self.name = name\n",
        "  def checkmaterial(self):\n",
        "\t  print(\"This {} is made of {}\".format(self.name,self.material))\n",
        "\t\t\t\n",
        "class Shirt(Clothing):\n",
        "  material=\"Cotton\"\n",
        "\n",
        "polo = Shirt(\"Polo\")\n",
        "polo.checkmaterial()\n"
      ],
      "execution_count": null,
      "outputs": [
        {
          "output_type": "stream",
          "name": "stdout",
          "text": [
            "This Polo is made of Cotton\n"
          ]
        }
      ]
    },
    {
      "cell_type": "code",
      "metadata": {
        "colab": {
          "base_uri": "https://localhost:8080/"
        },
        "id": "Mae_cWHi7tGq",
        "outputId": "76898da5-dba2-4aee-f3cf-489ca023fa2e"
      },
      "source": [
        "%reset -f\n",
        "#Let’s expand a bit on our Clothing classes from the previous in-video question. \n",
        "#Your mission: Finish the \"Stock_by_Material\" method and iterate over the amount of each item \n",
        "#of a given material that is in stock. When you’re finished, the script should add up to 10 cotton Polo shirts.\n",
        "\n",
        "class Clothing:\n",
        "  stock={ 'name': [],'material' :[], 'amount':[]}\n",
        "  def __init__(self,name):\n",
        "    material = \"\"\n",
        "    self.name = name\n",
        "  def add_item(self, name, material, amount):\n",
        "    Clothing.stock['name'].append(self.name)\n",
        "    Clothing.stock['material'].append(self.material)\n",
        "    Clothing.stock['amount'].append(amount)\n",
        "  def Stock_by_Material(self, material):\n",
        "    count=0\n",
        "    n=0\n",
        "    for item in Clothing.stock['material']: #['material']\n",
        "      if item == material:\n",
        "        count += Clothing.stock['amount'][n] #.stock\n",
        "        n+=1\n",
        "    return count\n",
        "\n",
        "class shirt(Clothing):\n",
        "  material=\"Cotton\"\n",
        "class pants(Clothing):\n",
        "  material=\"Cotton\"\n",
        "  \n",
        "polo = shirt(\"Polo\")\n",
        "sweatpants = pants(\"Sweatpants\")\n",
        "polo.add_item(polo.name, polo.material, 4)\n",
        "sweatpants.add_item(sweatpants.name, sweatpants.material, 6)\n",
        "current_stock = polo.Stock_by_Material(\"Cotton\")\n",
        "print(current_stock)\n"
      ],
      "execution_count": null,
      "outputs": [
        {
          "output_type": "stream",
          "name": "stdout",
          "text": [
            "10\n"
          ]
        }
      ]
    },
    {
      "cell_type": "code",
      "metadata": {
        "colab": {
          "base_uri": "https://localhost:8080/"
        },
        "id": "8ievHy5eHhae",
        "outputId": "c753b4c9-6c11-4ce7-aa77-35cefa8f4724"
      },
      "source": [
        "%reset -f\n",
        "#modulos datetyme e random\n",
        "import random\n",
        "print(random.randint(1,10))\n",
        "\n",
        "import datetime\n",
        "now = datetime.datetime.now()\n",
        "type(now)\n",
        "print(now)\n",
        "print(now + datetime.timedelta(days=28))\n",
        "print(now.year)\n",
        "\n"
      ],
      "execution_count": null,
      "outputs": [
        {
          "output_type": "stream",
          "name": "stdout",
          "text": [
            "6\n",
            "2021-10-21 14:08:02.864039\n",
            "2021-11-18 14:08:02.864039\n",
            "2021\n"
          ]
        }
      ]
    },
    {
      "cell_type": "code",
      "metadata": {
        "id": "5ib6v8YCLMFe",
        "colab": {
          "base_uri": "https://localhost:8080/"
        },
        "outputId": "01f4a063-3ebb-4db8-b777-97d1a2ec8f51"
      },
      "source": [
        "%reset -f\n",
        "import sys\n",
        "palavra = 'Mississipi'\n",
        "for letra in palavra:\n",
        "  if letra == 'p':\n",
        "    pass\n",
        "  else:\n",
        "    sys.stdout.write(letra)\n",
        "\n"
      ],
      "execution_count": null,
      "outputs": [
        {
          "output_type": "stream",
          "name": "stdout",
          "text": [
            "Mississii"
          ]
        }
      ]
    },
    {
      "cell_type": "markdown",
      "metadata": {
        "id": "wAfEORziJKwr"
      },
      "source": [
        "#Begin Portion 1#\n",
        "import random\n",
        "\n",
        "class Server:\n",
        "    def __init__(self):\n",
        "        \"\"\"Creates a new server instance, with no active connections.\"\"\"\n",
        "        self.connections = {}\n",
        "\n",
        "    def add_connection(self, connection_id):\n",
        "        \"\"\"Adds a new connection to this server.\"\"\"\n",
        "        connection_load = random.random()*10+1\n",
        "        # Add the connection to the dictionary with the calculated load\n",
        "        self.connections[connection_id] = connection_load\n",
        "    def close_connection(self, connection_id):\n",
        "        \"\"\"Closes a connection on this server.\"\"\"\n",
        "        # Remove the connection from the dictionary\n",
        "        if connection_id in self.connections:\n",
        "            del self.connections[connection_id]\n",
        "    def load(self):\n",
        "        \"\"\"Calculates the current load for all connections.\"\"\"\n",
        "        total = 0\n",
        "        for load in self.connections.values():\n",
        "            total += load\n",
        "        # Add up the load for each of the connections\n",
        "        return total\n",
        "\n",
        "    def __str__(self):\n",
        "        \"\"\"Returns a string with the current load of the server\"\"\"\n",
        "        return \"{:.2f}%\".format(self.load())\n",
        "    \n",
        "#End Portion 1#\n",
        "\n",
        "---\n",
        "\n"
      ]
    }
  ]
}