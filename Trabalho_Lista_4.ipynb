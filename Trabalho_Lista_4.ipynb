{
  "nbformat": 4,
  "nbformat_minor": 0,
  "metadata": {
    "colab": {
      "name": "Trabalho Lista 4",
      "provenance": [],
      "collapsed_sections": []
    },
    "kernelspec": {
      "name": "python3",
      "display_name": "Python 3"
    },
    "language_info": {
      "name": "python"
    }
  },
  "cells": [
    {
      "cell_type": "code",
      "metadata": {
        "id": "tdpFdAPuBXVM"
      },
      "source": [
        "# Disciplina : Probabilidade e Estatística\n",
        "#Alunos: \n",
        "#Erick Seredniki Pernambuco - matricula 2114290001\n",
        "#Pedro henrique da Silveira Rocha - matricula 2124290005\n",
        "#Lista 4\n"
      ],
      "execution_count": null,
      "outputs": []
    },
    {
      "cell_type": "code",
      "source": [
        ""
      ],
      "metadata": {
        "id": "B-Y0r7V2jJOE"
      },
      "execution_count": null,
      "outputs": []
    },
    {
      "cell_type": "code",
      "metadata": {
        "colab": {
          "base_uri": "https://localhost:8080/"
        },
        "id": "cdjni3nZIR2o",
        "outputId": "8038f820-a4ee-4a72-a767-2d03e0fbc56f"
      },
      "source": [
        "%reset -f\n",
        "# Questão 1\n",
        "import statistics\n",
        "from scipy.stats.mstats import gmean\n",
        "consumo_sal_gaucho = {\"A\": 10, \"B\":13, \"C\":17, \"D\":9, \"E\":8, \"F\":11, \"G\":13, \"H\":7}\n",
        "valores = [] # foi preciso criar uma lista pois o item gmean n aceita valores direto do dicionario\n",
        "for val in consumo_sal_gaucho.values():\n",
        "    valores.append(val)\n",
        "print('a) A média aritimética simples do consumo de sal por gaúcho é: ', statistics.mean(consumo_sal_gaucho.values()))\n",
        "print('b) A média harmônica do consumo de sal por gaúcho é: ',statistics.harmonic_mean(consumo_sal_gaucho.values()))\n",
        "print('c) A média geométrica do consumo de sal por gaúcho é: ', gmean(valores))\n",
        "print('d) A moda do consumo de sal por gaúcho é: ',  statistics.mode(valores))\n",
        "print('e) A variância do consumo de sal por gaúcho é: ',  statistics.variance(valores))\n",
        "print('f) o desvio padão do consumo de sal por gaúcho é: ',  statistics.stdev(valores))\n"
      ],
      "execution_count": null,
      "outputs": [
        {
          "output_type": "stream",
          "name": "stdout",
          "text": [
            "a) A média aritimética simples do consumo de sal por gaúcho é:  11\n",
            "b) A média harmônica do consumo de sal por gaúcho é:  10.223027770053966\n",
            "c) A média geométrica do consumo de sal por gaúcho é:  10.599121142601566\n",
            "d) A moda do consumo de sal por gaúcho é:  13\n",
            "e) A variância do consumo de sal por gaúcho é:  10.571428571428571\n",
            "f) o desvio padão do consumo de sal por gaúcho é:  3.251373336211726\n"
          ]
        }
      ]
    },
    {
      "cell_type": "code",
      "metadata": {
        "id": "PEcYkpM8P9o8"
      },
      "source": [
        ""
      ],
      "execution_count": null,
      "outputs": []
    },
    {
      "cell_type": "code",
      "metadata": {
        "colab": {
          "base_uri": "https://localhost:8080/"
        },
        "id": "35MYB72wISDY",
        "outputId": "14e8b46e-f7ff-455e-cbbb-e08e23660278"
      },
      "source": [
        "%reset -f\n",
        "#Questão 2\n",
        "import statistics\n",
        "from scipy.stats.mstats import gmean\n",
        "amostra = [67, 75, 63, 72, 77, 78, 81,77, 80]\n",
        "print(\"a) A média aritimética simples da amostra: {} \\n   A media harmônica da amostra: {} \\n   A média geométrica da amostra: {}\".format( statistics.mean(amostra), statistics.harmonic_mean(amostra), gmean(amostra)))\n",
        "print(\"b) A moda da Amostra é: \",statistics.mode(amostra))\n",
        "print(\"c) A mediana da amostra é: \", statistics.median(amostra))\n",
        "print(\"d) A variância da amostra é: \", statistics.variance(amostra))\n",
        "print(\"e) O desvio padrão da amostra é: \",statistics.stdev(amostra))"
      ],
      "execution_count": null,
      "outputs": [
        {
          "output_type": "stream",
          "name": "stdout",
          "text": [
            "a) A média aritimética simples da amostra: 74.44444444444444 \n",
            "   A media harmônica da amostra: 73.9761521541457 \n",
            "   A média geométrica da amostra: 74.21566351300045\n",
            "b) A moda da Amostra é:  77\n",
            "c) A mediana da amostra é:  77\n",
            "d) A variância da amostra é:  36.52777777777778\n",
            "e) O desvio padrão da amostra é:  6.043821454822915\n"
          ]
        }
      ]
    },
    {
      "cell_type": "code",
      "metadata": {
        "colab": {
          "base_uri": "https://localhost:8080/"
        },
        "id": "nyq04h1rIRDZ",
        "outputId": "287bcd23-a45e-4027-e88f-485608fa1a4f"
      },
      "source": [
        "\n",
        "%reset -f\n",
        "#Questão 3\n",
        "import statistics\n",
        "from scipy.stats.mstats import gmean\n",
        "produ_leite = [4.0, 4.5, 5.0, 5.0, 5.0, 5.5, 6.0, 6.0, 6.5, 6.5, 6.5, 6.5, 7.0, 7.0, 7.0, 7.0, 7.0, 7.0, 7.5, 8.5, 9.0, 9.0, 9.0, 9.5 , 10.0, 10.0, 10.5, 10.5, 11.0, 12.0, 12.5, 13.0, 13.0]\n",
        "coef_variacao = (statistics.stdev(produ_leite)/statistics.mean(produ_leite))*100 #calculo do coef. de variação\n",
        "print(\"O coeficente de variação da produção de leite em kg é: \",coef_variacao)"
      ],
      "execution_count": null,
      "outputs": [
        {
          "output_type": "stream",
          "name": "stdout",
          "text": [
            "O coeficente de variação da produção de leite em kg é:  31.715286140913186\n"
          ]
        }
      ]
    },
    {
      "cell_type": "code",
      "metadata": {
        "colab": {
          "base_uri": "https://localhost:8080/"
        },
        "id": "ZAmMRZPDtQcL",
        "outputId": "b2cb8a1c-daf3-4b3b-892b-a6b14908bf83"
      },
      "source": [
        "%reset -f\n",
        "#Questão 4\n",
        "import statistics\n",
        "from scipy.stats.mstats import gmean\n",
        "\n",
        "prod_cafe = [12, 15, 18, 22, 17, 14, 18, 23, 29, 12]\n",
        "print(\"a) A produção média de café é: {} toneladas\".format(statistics.mean(prod_cafe)))\n",
        "print(\"b) A mediana da produção de café é: {} toneladas\".format(statistics.median(prod_cafe)))\n",
        "print(\"c) O desvio padrão da produção de café é: {} toneladas\".format(statistics.stdev(prod_cafe)))\n"
      ],
      "execution_count": null,
      "outputs": [
        {
          "output_type": "stream",
          "name": "stdout",
          "text": [
            "a) A produção média de café é: 18 toneladas\n",
            "b) A mediana da produção de café é: 17.5 toneladas\n",
            "c) O desvio padrão da produção de café é: 5.374838498865699 toneladas\n"
          ]
        }
      ]
    },
    {
      "cell_type": "code",
      "metadata": {
        "colab": {
          "base_uri": "https://localhost:8080/"
        },
        "id": "l06qI1I8tRfr",
        "outputId": "af310618-5aef-4c46-fd3c-6f916ab98679"
      },
      "source": [
        "%reset -f\n",
        "#Questão 5\n",
        "import statistics\n",
        "from scipy.stats.mstats import gmean\n",
        "lista_notas = []\n",
        "while(True): #loop infinito para inserção de notas\n",
        "  nota = float(input('Insira o valor da nota: '))\n",
        "  if(nota == -999): #condição de parada\n",
        "    break\n",
        "  else:\n",
        "    if(nota < 0 or nota > 10): #verifica a validade da nota\n",
        "      print(\"Erro nota inválida, insira outra nota : \")\n",
        "      continue\n",
        "    else:\n",
        "      lista_notas.append(nota)\n",
        "print(\"a) A média aritimética simples das notas é: \",statistics.mean(lista_notas))\n",
        "print(\"b) A média harmonica das notas é: \",statistics.harmonic_mean1(lista_notas))\n",
        "print(\"c) A média geométrica das notas é: \",gmean(lista_notas))\n",
        "print(\"d) A moda das notas é: \",statistics.mode(lista_notas))\n",
        "print(\"e) A variância das notas é: \",statistics.variance(lista_notas))\n",
        "print(\"f) O desvio padrão das notas é: \",statistics.stdev(lista_notas))\n",
        "coef_variacao = (statistics.stdev(lista_notas)/statistics.mean(lista_notas))*100 #calculo do coef. de variação\n",
        "print(\"g) O Coeficiente de variância das notas é: \",coef_variacao)\n"
      ],
      "execution_count": null,
      "outputs": [
        {
          "output_type": "stream",
          "name": "stdout",
          "text": [
            "Insira o valor da nota: 10\n",
            "Insira o valor da nota: 0\n",
            "Insira o valor da nota: 10\n",
            "Insira o valor da nota: 10\n",
            "Insira o valor da nota: 10\n",
            "Insira o valor da nota: 10\n",
            "Insira o valor da nota: 10\n",
            "Insira o valor da nota: 6\n",
            "Insira o valor da nota: 6\n",
            "Insira o valor da nota: 6\n",
            "Insira o valor da nota: 5\n",
            "Insira o valor da nota: -999\n",
            "a) A média aritimética simples das notas é:  7.545454545454546\n",
            "b) A média harmonica das notas é:  0\n",
            "c) A média geométrica das notas é:  0.0\n",
            "d) A moda das notas é:  10.0\n",
            "e) A variância das notas é:  10.672727272727274\n",
            "f) O desvio padrão das notas é:  3.2669140289770824\n",
            "g) O Coeficiente de variância das notas é:  43.29645098644326\n"
          ]
        },
        {
          "output_type": "stream",
          "name": "stderr",
          "text": [
            "/usr/local/lib/python3.7/dist-packages/scipy/stats/stats.py:330: RuntimeWarning: divide by zero encountered in log\n",
            "  log_a = np.log(np.array(a, dtype=dtype))\n"
          ]
        }
      ]
    },
    {
      "cell_type": "code",
      "metadata": {
        "colab": {
          "base_uri": "https://localhost:8080/"
        },
        "id": "IOPJ5rG8tRwq",
        "outputId": "43782475-f480-4a7f-c3a1-1186bce43f00"
      },
      "source": [
        "%reset -f\n",
        "#Questão 6\n",
        "import statistics\n",
        "from scipy.stats.mstats import gmean\n",
        "nota1 = float(input('Insira o valor da 1° nota: '))\n",
        "nota2 = float(input('Insira o valor da 2° nota: '))\n",
        "nota3 = float(input('Insira o valor da 3° nota: '))\n",
        "peso1 = 3\n",
        "peso2 = 4\n",
        "peso3 = 3\n",
        "\n",
        "#calculo da média ponderada os pesos das notas dado na questão são 3,4 e 3\n",
        "\n",
        "media = (nota1 * peso1+nota2 * peso2+ nota3 * peso3)/(peso1+peso2+peso3)\n",
        "print(\"A média ponderada das três notas é: \", media)\n"
      ],
      "execution_count": null,
      "outputs": [
        {
          "output_type": "stream",
          "name": "stdout",
          "text": [
            "Insira o valor da 1° nota: 7\n",
            "Insira o valor da 2° nota: 5\n",
            "Insira o valor da 3° nota: 8\n",
            "A média ponderada das três notas é:  6.5\n"
          ]
        }
      ]
    }
  ]
}